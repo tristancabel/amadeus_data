{
 "cells": [
  {
   "cell_type": "code",
   "execution_count": 2,
   "metadata": {
    "collapsed": true
   },
   "outputs": [],
   "source": [
    "import bz2\n",
    "import numpy as np\n",
    "import pandas as pd\n",
    "from GeoBases import GeoBase\n",
    "import multiprocessing as multi\n",
    "import os"
   ]
  },
  {
   "cell_type": "markdown",
   "metadata": {},
   "source": [
    "**First exercise: count the number of lines in Python for each file**"
   ]
  },
  {
   "cell_type": "code",
   "execution_count": 4,
   "metadata": {
    "collapsed": false
   },
   "outputs": [
    {
     "name": "stdout",
     "output_type": "stream",
     "text": [
      "downloads/bookings.csv.bz2 has  10000011 lines\n",
      "downloads/searches.csv.bz2 has  20390199 lines\n"
     ]
    }
   ],
   "source": [
    "def linesCountBz2(fileName):\n",
    "    f = bz2.BZ2File(fileName, 'rb')\n",
    "    nblines = 0\n",
    "    for line in f:\n",
    "        nblines = nblines + 1\n",
    "    print fileName, 'has ', nblines, 'lines'\n",
    "\n",
    "pool = multi.Pool(2)\n",
    "pool.map(linesCountBz2, ['downloads/bookings.csv.bz2', 'downloads/searches.csv.bz2'])\n",
    "pool.close()\n",
    "pool.join()\n",
    "#linesCountBz2('downloads/bookings.csv.bz2')\n",
    "#linesCountBz2('downloads/searches.csv.bz2')\n"
   ]
  },
  {
   "cell_type": "markdown",
   "metadata": {},
   "source": [
    "**Second exercise: top 10 arrival airports in the world in 2013 (using the bookings file)**\n",
    "\n",
    "Arrival airport is the column *arr_port*. It is the IATA code for the airport\n",
    "\n",
    "To get the total number of passengers for an airport, you can sum the column pax, grouping by arr_port. Note that there is negative pax. That corresponds to cancelations. So to get the total number of passengers that have actually booked, you should sum including the negatives (that will remove the canceled bookings).\n",
    "\n",
    "Print the top 10 arrival airports in the standard output, including the number of passengers.\n",
    "\n",
    "Bonus point: Get the name of the city or airport corresponding to that airport (programatically, we suggest to have a look at GeoBases in Github)\n",
    "\n",
    "Bonus point: Solve this problem using pandas (instead of any other approach) "
   ]
  },
  {
   "cell_type": "code",
   "execution_count": 6,
   "metadata": {
    "collapsed": false
   },
   "outputs": [
    {
     "name": "stdout",
     "output_type": "stream",
     "text": [
      "              pax                          Airport name\n",
      "arr_port                                               \n",
      "LHR       88809.0               London Heathrow Airport\n",
      "MCO       70930.0         Orlando International Airport\n",
      "LAX       70530.0     Los Angeles International Airport\n",
      "LAS       69630.0       Mc Carran International Airport\n",
      "JFK       66270.0  John F Kennedy International Airport\n",
      "CDG       64490.0             Paris - Charles-de-Gaulle\n",
      "BKK       59460.0                          Suvarnabhumi\n",
      "MIA       58150.0           Miami International Airport\n",
      "SFO       58000.0   San Francisco International Airport\n",
      "DXB       55590.0           Dubai International Airport\n"
     ]
    }
   ],
   "source": [
    "def top10Airports(fileName):\n",
    "    fields = ['arr_port', 'pax']\n",
    "    # get a textreader\n",
    "    tf = pd.read_csv(fileName, chunksize=1000, sep='\\s*\\^', engine='python', iterator=True, usecols=fields)\n",
    "    #make a DataFrame\n",
    "    df = pd.concat(tf, ignore_index=True)\n",
    "    df = df.groupby('arr_port').sum()\n",
    "    df.sort_values('pax',inplace=True, ascending=False)\n",
    "    geo_o = GeoBase(data='ori_por', verbose=False)\n",
    "    df['Airport name'] = df.index.map(lambda iata : geo_o.get(iata, 'name', default='unknown'))\n",
    "    print df.head(10)\n",
    "    \n",
    "    \n",
    "top10Airports('downloads/bookings.csv.bz2')\n"
   ]
  },
  {
   "cell_type": "markdown",
   "metadata": {},
   "source": [
    "**Third exercise: plot the monthly number of searches for flights arriving at Málaga, Madrid or Barcelona**\n",
    "\n",
    "For the arriving airport, you can use the Destination column in the searches file. Plot a curve for Málaga, another one for Madrid, and another one for Barcelona, in the same figure. Bonus point: Solving this problem using pandas (instead of any other approach)\n",
    "\n"
   ]
  },
  {
   "cell_type": "code",
   "execution_count": 10,
   "metadata": {
    "collapsed": false
   },
   "outputs": [
    {
     "data": {
      "image/png": "[encoded data removed]",
      "text/plain": [
       "<matplotlib.figure.Figure at 0x7f165b51f050>"
      ]
     },
     "metadata": {},
     "output_type": "display_data"
    }
   ],
   "source": [
    "import matplotlib\n",
    "import matplotlib.pyplot as plt\n",
    "import multiprocessing as multi\n",
    "%matplotlib inline\n",
    "\n",
    "def plotMonthlySearchesForAirports(airports_name):\n",
    "    fields = ['Date', 'Destination']    \n",
    "    tf = pd.read_csv('downloads/searches.csv.bz2', chunksize=1000, sep='\\s*\\^', engine='python', iterator=True, usecols=fields)\n",
    "    #make a DataFrame\n",
    "    df = pd.concat(tf, ignore_index=True)\n",
    "    #set the date\n",
    "    # a first attempt was \n",
    "    #  dateparse = lambda dates: [pd.datetime.strptime(d, '%Y-%m-%d') for d in dates]\n",
    "    #  tf = pd.read_csv(fileName, parse_dates='Date', date_parser=dateparse, chunksize=1000, sep='\\s*\\^', engine='python', iterator=True, usecols=fields)\n",
    "    #  but I got an error for a date, so I switched to the following method\n",
    "    df['Date'] = pd.to_datetime(df['Date'], errors='coerce', format='%Y-%m-%d')\n",
    "\n",
    "    geo_a = GeoBase(data='airports', verbose=False)\n",
    "    for airport_name in airports_name:\n",
    "        airport_iata = geo_a.fuzzyFind(airport_name, 'name')[0][1]\n",
    "        airport_searches = df[df['Destination']==airport_iata]\n",
    "        airport_searches = airport_searches.groupby(airport_searches['Date'].map(lambda row: row.month)).size()\n",
    "        airport_searches.name = airport_name\n",
    "        airport_searches.plot(legend=True)\n",
    "        \n",
    "\n",
    "plt.figure()\n",
    "airports_name = ['barcelona', 'malaga', 'madrid'] \n",
    "plotMonthlySearchesForAirports(airports_name)"
   ]
  },
  {
   "cell_type": "markdown",
   "metadata": {},
   "source": [
    "**Bonus exercise: match searches with bookings**\n",
    "\n",
    "For every search in the searches file, find out whether the search ended up in a booking or not (using the info in the bookings file). For instance, search and booking origin and destination should match. For the bookings file, origin and destination are the columns dep_port and arr_port, respectively. Generate a CSV file with the search data, and an additional field, containing 1 if the search ended up in a booking, and 0 otherwise. "
   ]
  },
  {
   "cell_type": "code",
   "execution_count": null,
   "metadata": {
    "collapsed": false
   },
   "outputs": [],
   "source": [
    "def checkIfInList(value, list_of_idx):\n",
    "    if value in list_of_idx:\n",
    "        return 1\n",
    "    return 0\n",
    "\n",
    "def matchSearchesWithBookings():\n",
    "    # from booking load origin destination (dep_port and arr_port)\n",
    "    fields = ['dep_port','arr_port']\n",
    "    # get a textreader\n",
    "    tf_bookings = pd.read_csv('downloads/bookings.csv.bz2', chunksize=1000, sep='\\s*\\^', engine='python', iterator=True, usecols=fields)\n",
    "    #make a DataFrame\n",
    "    df_bookings = pd.concat(tf_bookings, ignore_index=True)\n",
    "\n",
    "    tf_searches = pd.read_csv('downloads/searches.csv.bz2', chunksize=1000, sep='\\s*\\^', engine='python', iterator=True)\n",
    "    #df_searches = pd.concat(tf_searches, ignore_index=True)\n",
    "\n",
    "    for df_searches in tf_searches:\n",
    "        # from searches load everything\n",
    "        idx_match = pd.merge(df_searches,df_bookings, how='inner' , left_on=['Origin','Destination']  , right_on=['dep_port', 'arr_port'] ).index.tolist()\n",
    "        df_searches['match'] = df_searches.index.map(lambda idx : checkIfInList(idx, idx_match))    \n",
    "        if not os.path.isfile('downloads/searches_match.csv'):\n",
    "            df_searches.to_csv('downloads/searches_match.csv',header ='column_names')\n",
    "        else: # else it exists so append without writing the header\n",
    "            df_searches.to_csv('downloads/searches_match.csv',mode = 'a',header=False)\n",
    "\n",
    "matchSearchesWithBookings()"
   ]
  },
  {
   "cell_type": "markdown",
   "metadata": {},
   "source": [
    "**Bonus exercise: write a Web Service**\n",
    "\n",
    "Wrap the output of the second exercise in a web service that returns the data in JSON format (instead of printing to the standard output). The web service should accept a parameter n>0. For the top 10 airports, n is 10. For the X top airports, n is X."
   ]
  },
  {
   "cell_type": "code",
   "execution_count": 3,
   "metadata": {
    "collapsed": false
   },
   "outputs": [
    {
     "name": "stdout",
     "output_type": "stream",
     "text": [
      "create df\n",
      "df ok\n",
      "launching thread\n",
      "th started\n"
     ]
    },
    {
     "ename": "ConnectionError",
     "evalue": "HTTPConnectionPool(host='127.0.0.1', port=5000): Max retries exceeded with url: /topAirports/3 (Caused by NewConnectionError('<requests.packages.urllib3.connection.HTTPConnection object at 0x7fe0ffdca910>: Failed to establish a new connection: [Errno 111] Connection refused',))",
     "output_type": "error",
     "traceback": [
      "\u001b[1;31m---------------------------------------------------------------------------\u001b[0m",
      "\u001b[1;31mConnectionError\u001b[0m                           Traceback (most recent call last)",
      "\u001b[1;32m<ipython-input-3-949e1b00b14f>\u001b[0m in \u001b[0;36m<module>\u001b[1;34m()\u001b[0m\n\u001b[0;32m     40\u001b[0m \u001b[1;32mprint\u001b[0m \u001b[1;34m'th started'\u001b[0m\u001b[1;33m\u001b[0m\u001b[0m\n\u001b[0;32m     41\u001b[0m \u001b[0mtime\u001b[0m\u001b[1;33m.\u001b[0m\u001b[0msleep\u001b[0m\u001b[1;33m(\u001b[0m\u001b[1;36m5\u001b[0m\u001b[1;33m)\u001b[0m\u001b[1;33m\u001b[0m\u001b[0m\n\u001b[1;32m---> 42\u001b[1;33m \u001b[0mr\u001b[0m \u001b[1;33m=\u001b[0m \u001b[0mrequests\u001b[0m\u001b[1;33m.\u001b[0m\u001b[0mget\u001b[0m\u001b[1;33m(\u001b[0m\u001b[1;34m'http://127.0.0.1:5000/topAirports/3'\u001b[0m\u001b[1;33m)\u001b[0m\u001b[1;33m\u001b[0m\u001b[0m\n\u001b[0m\u001b[0;32m     43\u001b[0m \u001b[1;32mprint\u001b[0m \u001b[0mr\u001b[0m\u001b[1;33m.\u001b[0m\u001b[0mtext\u001b[0m\u001b[1;33m\u001b[0m\u001b[0m\n",
      "\u001b[1;32m/user/tcabel/home/anaconda2/lib/python2.7/site-packages/requests/api.pyc\u001b[0m in \u001b[0;36mget\u001b[1;34m(url, params, **kwargs)\u001b[0m\n\u001b[0;32m     65\u001b[0m \u001b[1;33m\u001b[0m\u001b[0m\n\u001b[0;32m     66\u001b[0m     \u001b[0mkwargs\u001b[0m\u001b[1;33m.\u001b[0m\u001b[0msetdefault\u001b[0m\u001b[1;33m(\u001b[0m\u001b[1;34m'allow_redirects'\u001b[0m\u001b[1;33m,\u001b[0m \u001b[0mTrue\u001b[0m\u001b[1;33m)\u001b[0m\u001b[1;33m\u001b[0m\u001b[0m\n\u001b[1;32m---> 67\u001b[1;33m     \u001b[1;32mreturn\u001b[0m \u001b[0mrequest\u001b[0m\u001b[1;33m(\u001b[0m\u001b[1;34m'get'\u001b[0m\u001b[1;33m,\u001b[0m \u001b[0murl\u001b[0m\u001b[1;33m,\u001b[0m \u001b[0mparams\u001b[0m\u001b[1;33m=\u001b[0m\u001b[0mparams\u001b[0m\u001b[1;33m,\u001b[0m \u001b[1;33m**\u001b[0m\u001b[0mkwargs\u001b[0m\u001b[1;33m)\u001b[0m\u001b[1;33m\u001b[0m\u001b[0m\n\u001b[0m\u001b[0;32m     68\u001b[0m \u001b[1;33m\u001b[0m\u001b[0m\n\u001b[0;32m     69\u001b[0m \u001b[1;33m\u001b[0m\u001b[0m\n",
      "\u001b[1;32m/user/tcabel/home/anaconda2/lib/python2.7/site-packages/requests/api.pyc\u001b[0m in \u001b[0;36mrequest\u001b[1;34m(method, url, **kwargs)\u001b[0m\n\u001b[0;32m     51\u001b[0m     \u001b[1;31m# cases, and look like a memory leak in others.\u001b[0m\u001b[1;33m\u001b[0m\u001b[1;33m\u001b[0m\u001b[0m\n\u001b[0;32m     52\u001b[0m     \u001b[1;32mwith\u001b[0m \u001b[0msessions\u001b[0m\u001b[1;33m.\u001b[0m\u001b[0mSession\u001b[0m\u001b[1;33m(\u001b[0m\u001b[1;33m)\u001b[0m \u001b[1;32mas\u001b[0m \u001b[0msession\u001b[0m\u001b[1;33m:\u001b[0m\u001b[1;33m\u001b[0m\u001b[0m\n\u001b[1;32m---> 53\u001b[1;33m         \u001b[1;32mreturn\u001b[0m \u001b[0msession\u001b[0m\u001b[1;33m.\u001b[0m\u001b[0mrequest\u001b[0m\u001b[1;33m(\u001b[0m\u001b[0mmethod\u001b[0m\u001b[1;33m=\u001b[0m\u001b[0mmethod\u001b[0m\u001b[1;33m,\u001b[0m \u001b[0murl\u001b[0m\u001b[1;33m=\u001b[0m\u001b[0murl\u001b[0m\u001b[1;33m,\u001b[0m \u001b[1;33m**\u001b[0m\u001b[0mkwargs\u001b[0m\u001b[1;33m)\u001b[0m\u001b[1;33m\u001b[0m\u001b[0m\n\u001b[0m\u001b[0;32m     54\u001b[0m \u001b[1;33m\u001b[0m\u001b[0m\n\u001b[0;32m     55\u001b[0m \u001b[1;33m\u001b[0m\u001b[0m\n",
      "\u001b[1;32m/user/tcabel/home/anaconda2/lib/python2.7/site-packages/requests/sessions.pyc\u001b[0m in \u001b[0;36mrequest\u001b[1;34m(self, method, url, params, data, headers, cookies, files, auth, timeout, allow_redirects, proxies, hooks, stream, verify, cert, json)\u001b[0m\n\u001b[0;32m    466\u001b[0m         }\n\u001b[0;32m    467\u001b[0m         \u001b[0msend_kwargs\u001b[0m\u001b[1;33m.\u001b[0m\u001b[0mupdate\u001b[0m\u001b[1;33m(\u001b[0m\u001b[0msettings\u001b[0m\u001b[1;33m)\u001b[0m\u001b[1;33m\u001b[0m\u001b[0m\n\u001b[1;32m--> 468\u001b[1;33m         \u001b[0mresp\u001b[0m \u001b[1;33m=\u001b[0m \u001b[0mself\u001b[0m\u001b[1;33m.\u001b[0m\u001b[0msend\u001b[0m\u001b[1;33m(\u001b[0m\u001b[0mprep\u001b[0m\u001b[1;33m,\u001b[0m \u001b[1;33m**\u001b[0m\u001b[0msend_kwargs\u001b[0m\u001b[1;33m)\u001b[0m\u001b[1;33m\u001b[0m\u001b[0m\n\u001b[0m\u001b[0;32m    469\u001b[0m \u001b[1;33m\u001b[0m\u001b[0m\n\u001b[0;32m    470\u001b[0m         \u001b[1;32mreturn\u001b[0m \u001b[0mresp\u001b[0m\u001b[1;33m\u001b[0m\u001b[0m\n",
      "\u001b[1;32m/user/tcabel/home/anaconda2/lib/python2.7/site-packages/requests/sessions.pyc\u001b[0m in \u001b[0;36msend\u001b[1;34m(self, request, **kwargs)\u001b[0m\n\u001b[0;32m    574\u001b[0m \u001b[1;33m\u001b[0m\u001b[0m\n\u001b[0;32m    575\u001b[0m         \u001b[1;31m# Send the request\u001b[0m\u001b[1;33m\u001b[0m\u001b[1;33m\u001b[0m\u001b[0m\n\u001b[1;32m--> 576\u001b[1;33m         \u001b[0mr\u001b[0m \u001b[1;33m=\u001b[0m \u001b[0madapter\u001b[0m\u001b[1;33m.\u001b[0m\u001b[0msend\u001b[0m\u001b[1;33m(\u001b[0m\u001b[0mrequest\u001b[0m\u001b[1;33m,\u001b[0m \u001b[1;33m**\u001b[0m\u001b[0mkwargs\u001b[0m\u001b[1;33m)\u001b[0m\u001b[1;33m\u001b[0m\u001b[0m\n\u001b[0m\u001b[0;32m    577\u001b[0m \u001b[1;33m\u001b[0m\u001b[0m\n\u001b[0;32m    578\u001b[0m         \u001b[1;31m# Total elapsed time of the request (approximately)\u001b[0m\u001b[1;33m\u001b[0m\u001b[1;33m\u001b[0m\u001b[0m\n",
      "\u001b[1;32m/user/tcabel/home/anaconda2/lib/python2.7/site-packages/requests/adapters.pyc\u001b[0m in \u001b[0;36msend\u001b[1;34m(self, request, stream, timeout, verify, cert, proxies)\u001b[0m\n\u001b[0;32m    435\u001b[0m                 \u001b[1;32mraise\u001b[0m \u001b[0mRetryError\u001b[0m\u001b[1;33m(\u001b[0m\u001b[0me\u001b[0m\u001b[1;33m,\u001b[0m \u001b[0mrequest\u001b[0m\u001b[1;33m=\u001b[0m\u001b[0mrequest\u001b[0m\u001b[1;33m)\u001b[0m\u001b[1;33m\u001b[0m\u001b[0m\n\u001b[0;32m    436\u001b[0m \u001b[1;33m\u001b[0m\u001b[0m\n\u001b[1;32m--> 437\u001b[1;33m             \u001b[1;32mraise\u001b[0m \u001b[0mConnectionError\u001b[0m\u001b[1;33m(\u001b[0m\u001b[0me\u001b[0m\u001b[1;33m,\u001b[0m \u001b[0mrequest\u001b[0m\u001b[1;33m=\u001b[0m\u001b[0mrequest\u001b[0m\u001b[1;33m)\u001b[0m\u001b[1;33m\u001b[0m\u001b[0m\n\u001b[0m\u001b[0;32m    438\u001b[0m \u001b[1;33m\u001b[0m\u001b[0m\n\u001b[0;32m    439\u001b[0m         \u001b[1;32mexcept\u001b[0m \u001b[0mClosedPoolError\u001b[0m \u001b[1;32mas\u001b[0m \u001b[0me\u001b[0m\u001b[1;33m:\u001b[0m\u001b[1;33m\u001b[0m\u001b[0m\n",
      "\u001b[1;31mConnectionError\u001b[0m: HTTPConnectionPool(host='127.0.0.1', port=5000): Max retries exceeded with url: /topAirports/3 (Caused by NewConnectionError('<requests.packages.urllib3.connection.HTTPConnection object at 0x7fe0ffdca910>: Failed to establish a new connection: [Errno 111] Connection refused',))"
     ]
    }
   ],
   "source": [
    "from flask import Flask\n",
    "import threading\n",
    "import requests\n",
    "import time\n",
    "\n",
    "app = Flask('topAirports')\n",
    "def flaskThread():\n",
    "    app.run()\n",
    "\n",
    "@app.route('/')\n",
    "def help():\n",
    "    return 'go to /topAirports/X to get X top airports'\n",
    "\n",
    "@app.route('/topAirports/<int:nb_airports>')\n",
    "def showTopAirports(nb_airports):\n",
    "    # show the <nb_airports> top airports\n",
    "    if nb_airports > 0:\n",
    "        return df_top_airports.head(nb_airports).to_json()\n",
    "    else:\n",
    "        return 'Error nb_airports <= 0 , nb_airports=',nb_airports\n",
    "\n",
    "\n",
    "print 'create df'\n",
    "fields = ['arr_port', 'pax']\n",
    "#put code here to avoid reloading dataset for each query    \n",
    "# get a textreader\n",
    "tf = pd.read_csv('downloads/bookings_sm.csv.bz2', chunksize=1000, sep='\\s*\\^', engine='python', iterator=True, usecols=fields)\n",
    "#make a DataFrame\n",
    "df_top_airports = pd.concat(tf, ignore_index=True)\n",
    "df_top_airports = df_top_airports.groupby('arr_port').sum()\n",
    "df_top_airports.sort_values('pax',inplace=True, ascending=False)\n",
    "geo_o = GeoBase(data='ori_por', verbose=False)\n",
    "df_top_airports['Airport name'] = df_top_airports.index.map(lambda iata : geo_o.get(iata, 'name', default='unknown'))\n",
    "print 'df ok'\n",
    "print 'launching thread'\n",
    "th = threading.Thread(target=flaskThread(), args=())\n",
    "th.daemon=True\n",
    "th.start()\n",
    "print 'th started'\n",
    "time.sleep(5)\n",
    "r = requests.get('http://127.0.0.1:5000/topAirports/3')\n",
    "print r.text"
   ]
  },
  {
   "cell_type": "code",
   "execution_count": null,
   "metadata": {
    "collapsed": true
   },
   "outputs": [],
   "source": []
  }
 ],
 "metadata": {
  "kernelspec": {
   "display_name": "Python 2",
   "language": "python",
   "name": "python2"
  },
  "language_info": {
   "codemirror_mode": {
    "name": "ipython",
    "version": 2
   },
   "file_extension": ".py",
   "mimetype": "text/x-python",
   "name": "python",
   "nbconvert_exporter": "python",
   "pygments_lexer": "ipython2",
   "version": "2.7.11"
  }
 },
 "nbformat": 4,
 "nbformat_minor": 0
}
