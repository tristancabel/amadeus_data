{
 "cells": [
  {
   "cell_type": "code",
   "execution_count": 1,
   "metadata": {
    "collapsed": true
   },
   "outputs": [],
   "source": [
    "import bz2\n",
    "import numpy as np\n",
    "import pandas as pd\n",
    "from GeoBases import GeoBase\n",
    "import matplotlib\n",
    "import matplotlib.pyplot as plt\n",
    "%matplotlib inline"
   ]
  },
  {
   "cell_type": "markdown",
   "metadata": {},
   "source": [
    "**First exercise: count the number of lines in Python for each file**"
   ]
  },
  {
   "cell_type": "code",
   "execution_count": 4,
   "metadata": {
    "collapsed": false
   },
   "outputs": [
    {
     "name": "stdout",
     "output_type": "stream",
     "text": [
      " downloads/bookings.csv.bz2 has  10000011 lines\n",
      "downloads/searches.csv.bz2 has  20390199 lines\n"
     ]
    }
   ],
   "source": [
    "def linesCountBz2(fileName):\n",
    "    f = bz2.BZ2File(fileName, 'rb')\n",
    "    nblines = 0\n",
    "    for line in f:\n",
    "        nblines = nblines + 1\n",
    "    print fileName, 'has ', nblines, 'lines'\n",
    "\n",
    "linesCountBz2('downloads/bookings.csv.bz2')\n",
    "linesCountBz2('downloads/searches.csv.bz2')\n"
   ]
  },
  {
   "cell_type": "markdown",
   "metadata": {},
   "source": [
    "**Second exercise: top 10 arrival airports in the world in 2013 (using the bookings file)**\n",
    "\n",
    "Arrival airport is the column *arr_port*. It is the IATA code for the airport\n",
    "\n",
    "To get the total number of passengers for an airport, you can sum the column pax, grouping by arr_port. Note that there is negative pax. That corresponds to cancelations. So to get the total number of passengers that have actually booked, you should sum including the negatives (that will remove the canceled bookings).\n",
    "\n",
    "Print the top 10 arrival airports in the standard output, including the number of passengers.\n",
    "\n",
    "Bonus point: Get the name of the city or airport corresponding to that airport (programatically, we suggest to have a look at GeoBases in Github)\n",
    "\n",
    "Bonus point: Solve this problem using pandas (instead of any other approach) "
   ]
  },
  {
   "cell_type": "code",
   "execution_count": 6,
   "metadata": {
    "collapsed": false
   },
   "outputs": [
    {
     "name": "stdout",
     "output_type": "stream",
     "text": [
      "              pax                          Airport name\n",
      "arr_port                                               \n",
      "LHR       88809.0               London Heathrow Airport\n",
      "MCO       70930.0         Orlando International Airport\n",
      "LAX       70530.0     Los Angeles International Airport\n",
      "LAS       69630.0       Mc Carran International Airport\n",
      "JFK       66270.0  John F Kennedy International Airport\n",
      "CDG       64490.0             Paris - Charles-de-Gaulle\n",
      "BKK       59460.0                          Suvarnabhumi\n",
      "MIA       58150.0           Miami International Airport\n",
      "SFO       58000.0   San Francisco International Airport\n",
      "DXB       55590.0           Dubai International Airport\n"
     ]
    }
   ],
   "source": [
    "def top10Airports(fileName):\n",
    "    fields = ['arr_port', 'pax']\n",
    "    # get a textreader\n",
    "    tf = pd.read_csv(fileName, chunksize=1000, sep='\\s*\\^', engine='python', iterator=True, usecols=fields)\n",
    "    #make a DataFrame\n",
    "    df = pd.concat(tf, ignore_index=True)\n",
    "    df = df.groupby('arr_port').sum()\n",
    "    df.sort_values('pax',inplace=True, ascending=False)\n",
    "    geo_o = GeoBase(data='ori_por', verbose=False)\n",
    "    df['Airport name'] = df.index.map(lambda iata : geo_o.get(iata, 'name', default='unknown'))\n",
    "    print df.head(10)\n",
    "    \n",
    "    \n",
    "top10Airports('downloads/bookings.csv.bz2')\n"
   ]
  },
  {
   "cell_type": "markdown",
   "metadata": {},
   "source": [
    "**Third exercise: plot the monthly number of searches for flights arriving at Málaga, Madrid or Barcelona**\n",
    "\n",
    "For the arriving airport, you can use the Destination column in the searches file. Plot a curve for Málaga, another one for Madrid, and another one for Barcelona, in the same figure. Bonus point: Solving this problem using pandas (instead of any other approach)\n",
    "\n"
   ]
  },
  {
   "cell_type": "code",
   "execution_count": 4,
   "metadata": {
    "collapsed": false
   },
   "outputs": [
    {
     "data": {
      "image/png": "[encoded data removed]",
      "text/plain": [
       "<matplotlib.figure.Figure at 0x7f16718f67d0>"
      ]
     },
     "metadata": {},
     "output_type": "display_data"
    }
   ],
   "source": [
    "\n",
    "def plotMonthlySearchesForAirports(airports_name):\n",
    "    fields = ['Date', 'Destination']    \n",
    "    tf = pd.read_csv('downloads/searches.csv.bz2', chunksize=1000, sep='\\s*\\^', engine='python', iterator=True, usecols=fields)\n",
    "    #make a DataFrame\n",
    "    df = pd.concat(tf, ignore_index=True)\n",
    "    #set the date\n",
    "    # a first attempt was \n",
    "    #  dateparse = lambda dates: [pd.datetime.strptime(d, '%Y-%m-%d') for d in dates]\n",
    "    #  tf = pd.read_csv(fileName, parse_dates='Date', date_parser=dateparse, chunksize=1000, sep='\\s*\\^', engine='python', iterator=True, usecols=fields)\n",
    "    #  but I got an error for a date, so I switched to the following method\n",
    "    df['Date'] = pd.to_datetime(df['Date'], errors='coerce', format='%Y-%m-%d')\n",
    "\n",
    "    geo_a = GeoBase(data='airports', verbose=False)\n",
    "    for airport_name in airports_name:\n",
    "        airport_iata = geo_a.fuzzyFind(airport_name, 'name')[0][1]\n",
    "        airport_searches = df[df['Destination']==airport_iata]\n",
    "        airport_searches = airport_searches.groupby(airport_searches['Date'].map(lambda row: row.month)).size()\n",
    "        airport_searches.plot( label=airport_name)\n",
    "        \n",
    "\n",
    "plt.figure()\n",
    "airports_name = ['malaga', 'madrid', 'barcelona'] \n",
    "plotMonthlySearchesForAirports(airports_name)"
   ]
  },
  {
   "cell_type": "markdown",
   "metadata": {},
   "source": [
    "**Bonus exercise: match searches with bookings**\n",
    "\n",
    "For every search in the searches file, find out whether the search ended up in a booking or not (using the info in the bookings file). For instance, search and booking origin and destination should match. For the bookings file, origin and destination are the columns dep_port and arr_port, respectively. Generate a CSV file with the search data, and an additional field, containing 1 if the search ended up in a booking, and 0 otherwise. "
   ]
  },
  {
   "cell_type": "code",
   "execution_count": null,
   "metadata": {
    "collapsed": true
   },
   "outputs": [],
   "source": []
  },
  {
   "cell_type": "markdown",
   "metadata": {},
   "source": [
    "**Bonus exercise: write a Web Service**\n",
    "\n",
    "Wrap the output of the second exercise in a web service that returns the data in JSON format (instead of printing to the standard output). The web service should accept a parameter n>0. For the top 10 airports, n is 10. For the X top airports, n is X."
   ]
  },
  {
   "cell_type": "code",
   "execution_count": null,
   "metadata": {
    "collapsed": true
   },
   "outputs": [],
   "source": [
    "app = Flask(__name__)\n",
    "\n",
    "#put code here to avoid reloading dataset for each query\n",
    " fields = ['arr_port', 'pax']\n",
    "\n",
    "# get a textreader\n",
    "tf = pd.read_csv('downloads/bookings.csv.bz2', chunksize=1000, sep='\\s*\\^', engine='python', iterator=True, usecols=fields)\n",
    "#make a DataFrame\n",
    "df_top_airports = pd.concat(tf, ignore_index=True)\n",
    "df_top_airports = df_top_airports.groupby('arr_port').sum()\n",
    "df_top_airports.sort_values('pax',inplace=True, ascending=False)\n",
    "geo_o = GeoBase(data='ori_por', verbose=False)\n",
    "df_top_airports['Airport name'] = df_top_airports.index.map(lambda iata : geo_o.get(iata, 'name', default='unknown'))\n",
    "\n",
    "@app.route('/')\n",
    "def help():\n",
    "    return 'go to /topAirports/X to get X top airports'\n",
    "\n",
    "@app.route('/topAirports/<nb_airports>')\n",
    "def showTopAirports(nb_airports):\n",
    "    # show the <nb_airports> top airports\n",
    "    \n",
    "   "
   ]
  }
 ],
 "metadata": {
  "kernelspec": {
   "display_name": "Python 2",
   "language": "python",
   "name": "python2"
  },
  "language_info": {
   "codemirror_mode": {
    "name": "ipython",
    "version": 2
   },
   "file_extension": ".py",
   "mimetype": "text/x-python",
   "name": "python",
   "nbconvert_exporter": "python",
   "pygments_lexer": "ipython2",
   "version": "2.7.11"
  }
 },
 "nbformat": 4,
 "nbformat_minor": 0
}
